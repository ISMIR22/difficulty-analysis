{
 "cells": [
  {
   "cell_type": "code",
   "execution_count": 2,
   "metadata": {},
   "outputs": [
    {
     "name": "stdout",
     "output_type": "stream",
     "text": [
      "REP: results_rep_velocity | train 0.84(0.05) | test 0.7(0.07)\n",
      "\n"
     ]
    }
   ],
   "source": [
    "import os\n",
    "\n",
    "from utils import load_json\n",
    "import pandas as pd\n",
    "import numpy as np\n",
    "\n",
    "\n",
    "def fill_results_gru(result_paths):\n",
    "    results = {}\n",
    "\n",
    "    for path in result_paths:\n",
    "        data2 = load_json(path)\n",
    "        parameters2, test_balanced_acc2, train_balanced_acc2, split_numbers2 = [], [], [], []\n",
    "        name = os.path.basename(path)[:-5]\n",
    "        for key, d in data2.items():\n",
    "            test_balanced_acc2.append(d['test_balanced_acc'])\n",
    "            train_balanced_acc2.append(d['train_balanced_acc'])\n",
    "        results[name] = {\n",
    "            'train': train_balanced_acc2,\n",
    "            'test': test_balanced_acc2\n",
    "        }\n",
    "    return results\n",
    "\n",
    "def r(x):\n",
    "    return np.round(x,2)\n",
    "\n",
    "def print_results(results):\n",
    "    for k, v in results.items():\n",
    "        print(f\"REP: {k} | train {r(np.mean(v['train']))}({r(np.std(v['train']))}) | test {r(np.mean(v['test']))}({r(np.std(v['test']))})\")\n",
    "    print()\n",
    "\n",
    "# pd.DataFrame().describe()\n",
    "rep_gru = fill_results_gru(\n",
    "    [\n",
    "#         \"results/deepgru/2048input.json\",\n",
    "#         \"results/deepgru/2048pca256.json\",\n",
    "#         \"results/deepgru/2048fc256.json\",\n",
    "#         \"results/deepgru/2048fc128dropout.json\",\n",
    "#         \"results/deepgru/1024fc128.json\",\n",
    "#         \"results/deepgru/1048fc16.json\",\n",
    "#         \"results/deepgru/2048fc16.json\",\n",
    "        \"results/mikrokosmos_full_cat/results_rep_velocity.json\"\n",
    "    ]\n",
    ")\n",
    "\n",
    "\n",
    "\n",
    "print_results(rep_gru)"
   ]
  },
  {
   "cell_type": "code",
   "execution_count": 65,
   "metadata": {},
   "outputs": [],
   "source": [
    "def r(a):\n",
    "    return round(a, 2)\n",
    "\n",
    "def r100(a):\n",
    "    return round(a*100, 2)\n",
    "    "
   ]
  },
  {
   "cell_type": "code",
   "execution_count": 66,
   "metadata": {},
   "outputs": [
    {
     "name": "stdout",
     "output_type": "stream",
     "text": [
      "\\emph{acc-9}\t\\emph{acc-3}\t\\emph{acc+-1}\t\\emph{mse}\n",
      "\\onlynotes\t24.28\t53.94\t63.89\t3.07\t\n",
      "\\vel\t34.14\t64.99\t61.11\t2.94\t\n",
      "\\nak\t19.06\t53.85\t50.93\t5.59\t\n",
      "\\exp\t24.24\t71.31\t61.11\t3.71\t\n"
     ]
    }
   ],
   "source": [
    "\n",
    "from tensorboard.backend.event_processing import event_accumulator\n",
    "\n",
    "results_full_length = {\n",
    "    '\\onlynotes': 'runs/henle_note_clean_basic/events.out.tfevents.1652916818.genis-pedro.575125.0',\n",
    "    '\\\\vel': 'runs/henle_fng_clean_basic/events.out.tfevents.1652911603.genis-pedro.575008.0' ,\n",
    "    '\\\\nak': 'runs/henle_nakamura_clean_basic/events.out.tfevents.1652914190.genis-pedro.575066.0', \n",
    "    '\\expr': 'runs/henle_exp_clean_basic/events.out.tfevents.1652999439.genis-pedro.5635.0'\n",
    "}\n",
    "\n",
    "print(\"\\emph{acc-9}\", \"\\emph{acc-3}\", \"\\emph{acc+-1}\", \"\\emph{mse}\", sep=\"\\t\")\n",
    "for representation, path in results_full_length.items():\n",
    "    ea = event_accumulator.EventAccumulator(path,\n",
    "        size_guidance={ # see below regarding this argument\n",
    "        event_accumulator.COMPRESSED_HISTOGRAMS: 500,\n",
    "        event_accumulator.IMAGES: 4,\n",
    "        event_accumulator.AUDIO: 4,\n",
    "        event_accumulator.SCALARS: 0,\n",
    "        event_accumulator.HISTOGRAMS: 1,\n",
    "    })\n",
    "    ea.Reload()\n",
    "#   print(ea.Tags())\n",
    "\n",
    "    print(representation, sep=\"\\t\", end='\\t')\n",
    "\n",
    "    acc9 = float(ea.Tensors('early_stopping_test/text_summary')[-1][2].string_val[0])\n",
    "    print(r100(acc9), sep=\"\\t\", end='\\t')\n",
    "\n",
    "    acc3 = float(ea.Tensors('3class_early_stopping_test/text_summary')[-1][2].string_val[0])\n",
    "    print(r100(acc3), sep=\"\\t\", end='\\t')\n",
    "\n",
    "    accplusless = float(ea.Tensors('acc_plusless_1_early_stopping_test/text_summary')[-1][2].string_val[0])\n",
    "    print(r100(accplusless), sep=\"\\t\", end='\\t')\n",
    "\n",
    "    mse = float(ea.Tensors('MSE_early_stopping_test/text_summary')[-1][2].string_val[0])\n",
    "    print(r(mse), sep=\"\\t\", end='\\t')\n",
    "    print()\n",
    "\n",
    "\n",
    "\n"
   ]
  },
  {
   "cell_type": "code",
   "execution_count": 67,
   "metadata": {},
   "outputs": [
    {
     "name": "stdout",
     "output_type": "stream",
     "text": [
      "\\emph{acc-9}\t\\emph{acc-3}\t\\emph{acc+-1}\t\\emph{mse}\n",
      "\\onlynotes\t25.77\t62.57\t58.33\t3.4\t\n",
      "\\vel\t31.65\t67.67\t61.11\t3.68\t\n",
      "\\nak\t19.05\t56.33\t25.93\t9.85\t\n",
      "\\expr\t24.6\t51.0\t49.07\t5.5\t\n"
     ]
    }
   ],
   "source": [
    "\n",
    "from tensorboard.backend.event_processing import event_accumulator\n",
    "\n",
    "results_full_length = {\n",
    "    '\\onlynotes': 'runs/henle_note_excerpts_clean/events.out.tfevents.1653011480.genis-pedro.5889.0',\n",
    "    '\\\\vel': 'runs/henle_fng_excerpts_clean/events.out.tfevents.1653004716.genis-pedro.5728.0' ,\n",
    "    '\\\\nak': 'runs/henle_nakamura_excerpts_clean/events.out.tfevents.1653008641.genis-pedro.5805.0', \n",
    "    '\\expr': 'runs/henle_exp_excerpts_clean/events.out.tfevents.1653028942.genis-pedro.6575.0'\n",
    "}\n",
    "\n",
    "print(\"\\emph{acc-9}\", \"\\emph{acc-3}\", \"\\emph{acc+-1}\", \"\\emph{mse}\", sep=\"\\t\")\n",
    "for representation, path in results_full_length.items():\n",
    "    ea = event_accumulator.EventAccumulator(path,\n",
    "        size_guidance={ # see below regarding this argument\n",
    "        event_accumulator.COMPRESSED_HISTOGRAMS: 500,\n",
    "        event_accumulator.IMAGES: 4,\n",
    "        event_accumulator.AUDIO: 4,\n",
    "        event_accumulator.SCALARS: 0,\n",
    "        event_accumulator.HISTOGRAMS: 1,\n",
    "    })\n",
    "    ea.Reload()\n",
    "#   print(ea.Tags())\n",
    "\n",
    "    print(representation, sep=\"\\t\", end='\\t')\n",
    "\n",
    "    acc9 = float(ea.Tensors('early_stopping_test/text_summary')[-1][2].string_val[0])\n",
    "    print(r100(acc9), sep=\"\\t\", end='\\t')\n",
    "\n",
    "    acc3 = float(ea.Tensors('3class_early_stopping_test/text_summary')[-1][2].string_val[0])\n",
    "    print(r100(acc3), sep=\"\\t\", end='\\t')\n",
    "\n",
    "    accplusless = float(ea.Tensors('acc_plusless_1_early_stopping_test/text_summary')[-1][2].string_val[0])\n",
    "    print(r100(accplusless), sep=\"\\t\", end='\\t')\n",
    "\n",
    "    mse = float(ea.Tensors('MSE_early_stopping_test/text_summary')[-1][2].string_val[0])\n",
    "    print(r(mse), sep=\"\\t\", end='\\t')\n",
    "    print()\n",
    "\n",
    "\n",
    "\n"
   ]
  },
  {
   "cell_type": "code",
   "execution_count": 74,
   "metadata": {},
   "outputs": [
    {
     "name": "stdout",
     "output_type": "stream",
     "text": [
      "\\onlynotes\t28.86\t66.5\t56.35\t4.15\t32.64\t59.5\t53.85\t4.62\t32.27\t60.46\t55.56\t4.23\t11.11\t22.86\t\n",
      "\\vel\t42.95\t70.44\t67.75\t2.5\t37.73\t74.1\t69.23\t2.83\t41.44\t72.8\t68.52\t2.89\t35.16\t48.25\t\n",
      "\\nak\t31.33\t67.16\t51.79\t5.53\t34.57\t68.27\t48.08\t4.88\t25.52\t63.23\t44.44\t5.25\t11.11\t2.86\t\n"
     ]
    }
   ],
   "source": [
    "\n",
    "from tensorboard.backend.event_processing import event_accumulator\n",
    "\n",
    "results_full_length = {\n",
    "    '\\onlynotes': 'runs/henle_note_excerpts_expand_clean/events.out.tfevents.1652828873.genis-pedro.567490.0',\n",
    "    '\\\\vel': 'runs/henle_fng_excerpts_expand_clean/events.out.tfevents.1652802427.genis-pedro.565863.0' ,\n",
    "    '\\\\nak': 'runs/henle_nakamura_excerpts_expand_clean/events.out.tfevents.1652811476.genis-pedro.566141.0', \n",
    "}\n",
    "\n",
    "for representation, path in results_full_length.items():\n",
    "    print(representation, sep=\"\\t\", end='\\t')\n",
    "    for subset in ['train', 'val', 'test', 'test_full', 'test_partial']:\n",
    "        ea = event_accumulator.EventAccumulator(path,\n",
    "            size_guidance={ # see below regarding this argument\n",
    "            event_accumulator.COMPRESSED_HISTOGRAMS: 500,\n",
    "            event_accumulator.IMAGES: 4,\n",
    "            event_accumulator.AUDIO: 4,\n",
    "            event_accumulator.SCALARS: 0,\n",
    "            event_accumulator.HISTOGRAMS: 1,\n",
    "        })\n",
    "        ea.Reload()\n",
    "        acc9 = float(ea.Tensors(f'early_stopping_{subset}/text_summary')[-1][2].string_val[0])\n",
    "        print(r100(acc9), sep=\"\\t\", end='\\t')\n",
    "        if subset not in ['test_full', 'test_partial']:\n",
    "            acc3 = float(ea.Tensors(f'3class_early_stopping_{subset}/text_summary')[-1][2].string_val[0])\n",
    "            print(r100(acc3), sep=\"\\t\", end='\\t')\n",
    "\n",
    "            accplusless = float(ea.Tensors(f'acc_plusless_1_early_stopping_{subset}/text_summary')[-1][2].string_val[0])\n",
    "            print(r100(accplusless), sep=\"\\t\", end='\\t')\n",
    "\n",
    "            mse = float(ea.Tensors(f'MSE_early_stopping_{subset}/text_summary')[-1][2].string_val[0])\n",
    "            print(r(mse), sep=\"\\t\", end='\\t')\n",
    "    print()\n"
   ]
  },
  {
   "cell_type": "code",
   "execution_count": 82,
   "metadata": {},
   "outputs": [
    {
     "name": "stdout",
     "output_type": "stream",
     "text": [
      "\\expr\t41.57\t70.88\t69.71\t2.72\t35.78\t69.4\t74.04\t2.41\t38.55\t73.89\t62.96\t3.11\t22.91\t15.24\t\n"
     ]
    }
   ],
   "source": [
    "\n",
    "from tensorboard.backend.event_processing import event_accumulator\n",
    "\n",
    "\n",
    "\n",
    "print('\\expr', sep=\"\\t\", end='\\t')\n",
    "for subset in ['train', 'val', 'test', 'test_full', 'test_partial']:\n",
    "    ea = event_accumulator.EventAccumulator('runs/henle_exp_excerpts_expand_clean/events.out.tfevents.1653015876.genis-pedro.5953.0',\n",
    "        size_guidance={ # see below regarding this argument\n",
    "        event_accumulator.COMPRESSED_HISTOGRAMS: 500,\n",
    "        event_accumulator.IMAGES: 4,\n",
    "        event_accumulator.AUDIO: 4,\n",
    "        event_accumulator.SCALARS: 0,\n",
    "        event_accumulator.HISTOGRAMS: 1,\n",
    "    })\n",
    "    ea.Reload()\n",
    "    acc9 = float(ea.Tensors(f'early_stopping_{subset}/text_summary')[-2][2].string_val[0])\n",
    "    print(r100(acc9), sep=\"\\t\", end='\\t')\n",
    "    if subset not in ['test_full', 'test_partial']:\n",
    "        acc3 = float(ea.Tensors(f'3class_early_stopping_{subset}/text_summary')[-2][2].string_val[0])\n",
    "        print(r100(acc3), sep=\"\\t\", end='\\t')\n",
    "\n",
    "        accplusless = float(ea.Tensors(f'acc_plusless_1_early_stopping_{subset}/text_summary')[-2][2].string_val[0])\n",
    "        print(r100(accplusless), sep=\"\\t\", end='\\t')\n",
    "\n",
    "        mse = float(ea.Tensors(f'MSE_early_stopping_{subset}/text_summary')[-2][2].string_val[0])\n",
    "        print(r(mse), sep=\"\\t\", end='\\t')\n",
    "print()\n"
   ]
  },
  {
   "cell_type": "code",
   "execution_count": 84,
   "metadata": {},
   "outputs": [
    {
     "name": "stdout",
     "output_type": "stream",
     "text": [
      "gt_labels b'[7, 8, 6, 6, 5, 4, 8, 7, 6, 7, 6, 5, 2, 6, 7, 5, 4, 3, 6, 6, 6, 4, 8, 5, 5, 5, 6, 5, 5, 6, 7, 5, 6, 8, 4, 5, 5, 4, 5, 4, 5, 8, 7, 3, 6, 7, 7, 5, 8, 5, 6, 5, 4, 2, 5, 6, 4, 2, 3, 4, 4, 5, 3, 2, 4, 5, 8, 4, 4, 3, 4, 5, 3, 4, 4, 4, 3, 3, 1, 4, 3, 3, 5, 3, 3, 5, 1, 1, 2, 3, 6, 4, 3, 4, 2, 1, 4, 1, 2, 3, 0, 2, 0, 1, 2, 3, 1, 0]'\n",
      "pred b'[8, 8, 6, 7, 8, 4, 8, 8, 8, 7, 6, 6, 4, 8, 5, 4, 7, 5, 6, 8, 8, 5, 8, 5, 8, 8, 8, 3, 5, 6, 8, 5, 5, 7, 5, 5, 4, 5, 4, 5, 7, 5, 8, 8, 5, 7, 8, 8, 8, 5, 6, 5, 5, 4, 5, 8, 4, 2, 5, 5, 5, 4, 5, 4, 4, 5, 3, 4, 4, 4, 4, 3, 4, 4, 8, 4, 4, 1, 4, 4, 1, 3, 1, 2, 2, 2, 1, 1, 2, 0, 4, 0, 1, 0, 0, 1, 2, 1, 1, 0, 1, 0, 0, 0, 1, 0, 0, 0]'\n",
      "path_name b\"['4078266', '5185876', '5731025', '6375643', '6377941', '6416929', '3625646', '5468366', '5555406', '6258177', '3433406', '6216916', '2052136', '6378786', '5349417', '5835723', '5981025', '4788704', '5283998', '6224476', '5003370', '4305816', '6177740', '5940384', '6038661', '5047635', '6274289', '6159283', '5729214', '1520766', '5807005', '4894057', '5497267', '3238956', '6423000', '4914021', '6139802', '5911439', '6067369', '5908054', '6106915', '6349990', '6426531', '6435229', '4301836', '6175684', '5978422', '1354051', '6106145', '3627886', '583656', '4005246', '6266056', '1451611', '3802126', '6099766', '6466857', '4863013', '5915662', '1072381', '5747199', '6367778', '6474700', '6427900', '6419234', '6279607', '3998041', '334241', '5904425', '6144738', '6201934', '3170936', '6254659', '6264719', '6408017', '675591', '180705', '6069079', '5585260', '6200435', '3073536', '6060569', '5916792', '6407808', '6419302', '6122851', '6392967', '6238350', '5978866', '5375318', '6385462', '6473874', '5387758', '5643956', '559', '6192550', '5047542', '5931641', '6002821', '3079706', '6191144', '4998154', '6169348', '6039042', '5329649', '60121', '6015746', '6008822']\"\n"
     ]
    }
   ],
   "source": [
    "ea = event_accumulator.EventAccumulator('runs/henle_exp_excerpts_expand_clean/events.out.tfevents.1653015876.genis-pedro.5953.0',\n",
    "        size_guidance={ # see below regarding this argument\n",
    "        event_accumulator.COMPRESSED_HISTOGRAMS: 500,\n",
    "        event_accumulator.IMAGES: 4,\n",
    "        event_accumulator.AUDIO: 4,\n",
    "        event_accumulator.SCALARS: 0,\n",
    "        event_accumulator.HISTOGRAMS: 1,\n",
    "})\n",
    "\n",
    "ea.Reload()\n",
    "\n",
    "# print(ea.Tags())\n",
    "lists = {'gt_labels':'last labels test/text_summary', 'pred':'last pred test/text_summary', 'path_name':'last path test/text_summary'}\n",
    "for name, path in lists.items():\n",
    "    print(name, ea.Tensors(path)[-2][2].string_val[0])\n"
   ]
  },
  {
   "cell_type": "code",
   "execution_count": 86,
   "metadata": {},
   "outputs": [
    {
     "name": "stdout",
     "output_type": "stream",
     "text": [
      "gt_labels b'[8, 6, 6, 7, 4, 7, 8, 3, 5, 6, 5, 6, 7, 5, 6, 4, 6, 8, 5, 7, 5, 5, 5, 2, 7, 5, 6, 6, 8, 6, 5, 7, 6, 8, 4, 4, 5, 6, 5, 5, 5, 6, 4, 5, 8, 7, 5, 4, 4, 2, 5, 5, 5, 6, 4, 3, 5, 7, 2, 2, 5, 4, 4, 3, 3, 3, 3, 3, 4, 3, 4, 6, 3, 8, 4, 4, 4, 3, 4, 5, 1, 1, 4, 6, 4, 1, 4, 3, 1, 3, 2, 2, 4, 3, 4, 2, 3, 1, 2, 5, 2, 1, 0, 1, 0, 3, 3, 0]'\n",
      "pred b'[8, 7, 7, 8, 6, 7, 6, 6, 7, 6, 7, 6, 7, 7, 8, 4, 5, 7, 7, 7, 7, 4, 5, 4, 7, 5, 7, 5, 6, 7, 8, 7, 4, 8, 8, 4, 5, 7, 4, 4, 4, 4, 4, 5, 8, 6, 5, 4, 4, 4, 4, 5, 2, 7, 4, 3, 2, 7, 2, 2, 4, 4, 2, 2, 2, 2, 2, 2, 3, 3, 3, 6, 2, 1, 3, 1, 1, 1, 3, 5, 0, 1, 1, 6, 3, 1, 3, 0, 0, 0, 1, 0, 3, 1, 5, 0, 0, 0, 3, 0, 0, 0, 0, 0, 0, 0, 0, 0]'\n",
      "path_name b\"['5185876', '5731025', '6375643', '4078266', '4305816', '6258177', '3625646', '4788704', '5835723', '5555406', '6377941', '3433406', '5468366', '5047635', '5283998', '6416929', '1520766', '6177740', '6216916', '6426531', '5940384', '6159283', '5729214', '2052136', '5807005', '3627886', '6224476', '5003370', '6349990', '6378786', '6038661', '5349417', '5497267', '6106145', '5981025', '6423000', '4914021', '583656', '6139802', '6067369', '4894057', '4301836', '5747199', '4005246', '3238956', '5978422', '1354051', '5911439', '6266056', '6427900', '3802126', '6106915', '6367778', '6274289', '6466857', '6474700', '3170936', '6175684', '1451611', '4863013', '6279607', '6408017', '5908054', '5915662', '6060569', '3073536', '6435229', '6407808', '6201934', '6419302', '334241', '6099766', '5387758', '3998041', '5904425', '6200435', '6473874', '3079706', '6419234', '6122851', '5585260', '6238350', '6264719', '6385462', '1072381', '5931641', '5047542', '180705', '6192550', '6144738', '4998154', '6002821', '675591', '6069079', '5643956', '559', '6254659', '6392967', '5978866', '5916792', '5329649', '6039042', '6191144', '6015746', '6169348', '5375318', '60121', '6008822']\"\n"
     ]
    }
   ],
   "source": [
    "ea = event_accumulator.EventAccumulator('runs/henle_fng_excerpts_expand_clean/events.out.tfevents.1652802427.genis-pedro.565863.0',\n",
    "        size_guidance={ # see below regarding this argument\n",
    "        event_accumulator.COMPRESSED_HISTOGRAMS: 500,\n",
    "        event_accumulator.IMAGES: 4,\n",
    "        event_accumulator.AUDIO: 4,\n",
    "        event_accumulator.SCALARS: 0,\n",
    "        event_accumulator.HISTOGRAMS: 1,\n",
    "})\n",
    "\n",
    "ea.Reload()\n",
    "\n",
    "# print(ea.Tags())\n",
    "lists = {'gt_labels':'last labels test/text_summary', 'pred':'last pred test/text_summary', 'path_name':'last path test/text_summary'}\n",
    "for name, path in lists.items():\n",
    "    print(name, ea.Tensors(path)[-1][2].string_val[0])\n"
   ]
  }
 ],
 "metadata": {
  "kernelspec": {
   "display_name": "Python 3 (ipykernel)",
   "language": "python",
   "name": "python3"
  },
  "language_info": {
   "codemirror_mode": {
    "name": "ipython",
    "version": 3
   },
   "file_extension": ".py",
   "mimetype": "text/x-python",
   "name": "python",
   "nbconvert_exporter": "python",
   "pygments_lexer": "ipython3",
   "version": "3.7.11"
  }
 },
 "nbformat": 4,
 "nbformat_minor": 1
}
